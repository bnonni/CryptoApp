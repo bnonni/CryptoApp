{
 "cells": [
  {
   "cell_type": "code",
   "execution_count": 864,
   "metadata": {},
   "outputs": [],
   "source": [
    "import gc, sys, re"
   ]
  },
  {
   "cell_type": "code",
   "execution_count": 865,
   "metadata": {},
   "outputs": [],
   "source": [
    "import pandas as pd\n",
    "import numpy as np\n",
    "import statistics as stat"
   ]
  },
  {
   "cell_type": "code",
   "execution_count": 896,
   "metadata": {},
   "outputs": [],
   "source": [
    "from pymongo import *\n",
    "\n",
    "conn = 'mongodb://localhost:27017'\n",
    "client = MongoClient(conn)\n",
    "db = client.crypto_wallet"
   ]
  },
  {
   "cell_type": "code",
   "execution_count": 897,
   "metadata": {},
   "outputs": [],
   "source": [
    "def checkLen(a, b):\n",
    "    if len(a) == len(b):\n",
    "        return True\n",
    "    else:\n",
    "        return f'a:{len(a)} < b:{len(b)}' if len(a) < len(b) else f'b:{len(b)} < a:{len(a)}'"
   ]
  },
  {
   "cell_type": "code",
   "execution_count": 898,
   "metadata": {},
   "outputs": [],
   "source": [
    "def filterData(obj, coll, st, narr):\n",
    "    for obj in coll:\n",
    "        try:\n",
    "            tmp = obj.get(st)\n",
    "            narr.append(tmp)\n",
    "        except Exception as e:\n",
    "            print(e, o['_id'])\n",
    "    return narr"
   ]
  },
  {
   "cell_type": "code",
   "execution_count": 899,
   "metadata": {},
   "outputs": [],
   "source": [
    "# BTC Collections\n",
    "BTC_Tickers_Collection = db.BTC_Tickers\n",
    "BTC_RSI_Collection = db.BTC_RSI14_Data\n",
    "BTC_ADL_Collection = db.BTC_ADL_Data\n",
    "BTC_OBV_Collection = db.BTC_OBV_Data"
   ]
  },
  {
   "cell_type": "code",
   "execution_count": 900,
   "metadata": {},
   "outputs": [],
   "source": [
    "BTC_Tickers_Objs = list(BTC_Tickers_Collection.find())\n",
    "BTC_datetimes = []\n",
    "for dto in BTC_Tickers_Collection.find():\n",
    "    date_time = dto.get('time')\n",
    "    split_time = date_time.split('T')\n",
    "    BTC_datetimes.append(split_time)"
   ]
  },
  {
   "cell_type": "code",
   "execution_count": 901,
   "metadata": {},
   "outputs": [],
   "source": [
    "BTC_Tickers_Objs = list(BTC_Tickers_Collection.find())\n",
    "BTC_prices = []\n",
    "for pro in BTC_Tickers_Collection.find():\n",
    "    price = pro.get('price')\n",
    "    BTC_prices.append(float(price))"
   ]
  },
  {
   "cell_type": "code",
   "execution_count": 902,
   "metadata": {},
   "outputs": [
    {
     "data": {
      "text/plain": [
       "list"
      ]
     },
     "execution_count": 902,
     "metadata": {},
     "output_type": "execute_result"
    }
   ],
   "source": [
    "checkLen(BTC_Tickers_Objs, BTC_prices)\n",
    "type(BTC_Tickers_Objs)"
   ]
  },
  {
   "cell_type": "code",
   "execution_count": 903,
   "metadata": {},
   "outputs": [],
   "source": [
    "BTC_RSI_Objs = list(BTC_RSI_Collection.find())\n",
    "BTC_RSIs = []\n",
    "#     BTC_RSIs.append(int(RSI))\n",
    "for rsio in BTC_RSI_Collection.find():\n",
    "    RSI = rsio.get('RSI')\n",
    "    try:\n",
    "        if type(RSI) == float:\n",
    "            BTC_RSIs.append(int(RSI))\n",
    "        elif type(RSI) == list:\n",
    "            BTC_RSIs.append(int(stat.mean(RSI)))\n",
    "        else:\n",
    "            BTC_RSIs.append(RSI)\n",
    "    except Exception as e:\n",
    "        print(e, o['_id'])\n",
    "        sys.exit(1)"
   ]
  },
  {
   "cell_type": "code",
   "execution_count": 904,
   "metadata": {},
   "outputs": [
    {
     "data": {
      "text/plain": [
       "True"
      ]
     },
     "execution_count": 904,
     "metadata": {},
     "output_type": "execute_result"
    }
   ],
   "source": [
    "checkLen(BTC_RSI_Objs, BTC_RSIs)"
   ]
  },
  {
   "cell_type": "code",
   "execution_count": 905,
   "metadata": {},
   "outputs": [],
   "source": [
    "BTC_ADL_Objs = list(BTC_ADL_Collection.find())\n",
    "BTC_ADLs = []\n",
    "BTC_ADL_slope = []\n",
    "for o in BTC_ADL_Collection.find():\n",
    "    ADL = o.get('ADL')\n",
    "    slope = o.get('slope')\n",
    "    try:\n",
    "        if type(ADL) == float:\n",
    "            BTC_ADLs.append(int(ADL))\n",
    "        elif type(ADL) == list:\n",
    "            BTC_ADLs.append(int(stat.mean(ADL)))\n",
    "        else:\n",
    "            BTC_ADLs.append(ADL)\n",
    "        if type(slope) == int:\n",
    "            BTC_ADL_slope.append(float(slope))\n",
    "        elif type(slope) == list:\n",
    "            BTC_ADL_slope.append(int(stat.mean(slope)))\n",
    "        else:\n",
    "            BTC_ADL_slope.append(slope)\n",
    "    except Exception as e:\n",
    "        print(e, o['_id'])\n",
    "        sys.exit(1)"
   ]
  },
  {
   "cell_type": "code",
   "execution_count": 906,
   "metadata": {},
   "outputs": [
    {
     "data": {
      "text/plain": [
       "True"
      ]
     },
     "execution_count": 906,
     "metadata": {},
     "output_type": "execute_result"
    }
   ],
   "source": [
    "checkLen(BTC_ADL_Objs, BTC_ADLs)"
   ]
  },
  {
   "cell_type": "code",
   "execution_count": 907,
   "metadata": {},
   "outputs": [
    {
     "data": {
      "text/plain": [
       "True"
      ]
     },
     "execution_count": 907,
     "metadata": {},
     "output_type": "execute_result"
    }
   ],
   "source": [
    "checkLen(BTC_ADL_slope, BTC_ADLs)"
   ]
  },
  {
   "cell_type": "code",
   "execution_count": 908,
   "metadata": {},
   "outputs": [],
   "source": [
    "BTC_OBV_Objs = list(BTC_OBV_Collection.find())\n",
    "BTC_OBVs = []\n",
    "BTC_OBV_slope = []\n",
    "for o in BTC_OBV_Collection.find():\n",
    "    OBV = o.get('OBV')\n",
    "    slope = o.get('slope')\n",
    "    try:\n",
    "        if type(OBV) == float:\n",
    "            BTC_OBVs.append(int(OBV))\n",
    "        elif type(OBV) == list:\n",
    "            BTC_OBVs.append(int(stat.mean(OBV)))\n",
    "        else:\n",
    "            BTC_OBVs.append(ADL)\n",
    "        if type(slope) == int:\n",
    "            BTC_OBV_slope.append(float(slope))\n",
    "        elif type(slope) == list:\n",
    "            BTC_ADL_slope.append(int(stat.mean(slope)))\n",
    "        else:\n",
    "            BTC_OBV_slope.append(slope)\n",
    "    except Exception as e:\n",
    "        print(e, o['_id'])\n",
    "        sys.exit(1)"
   ]
  },
  {
   "cell_type": "code",
   "execution_count": 909,
   "metadata": {},
   "outputs": [
    {
     "data": {
      "text/plain": [
       "True"
      ]
     },
     "execution_count": 909,
     "metadata": {},
     "output_type": "execute_result"
    }
   ],
   "source": [
    "checkLen(BTC_OBV_Objs, BTC_OBVs)"
   ]
  },
  {
   "cell_type": "code",
   "execution_count": 910,
   "metadata": {},
   "outputs": [
    {
     "data": {
      "text/plain": [
       "True"
      ]
     },
     "execution_count": 910,
     "metadata": {},
     "output_type": "execute_result"
    }
   ],
   "source": [
    "checkLen(BTC_OBV_slope, BTC_OBVs)"
   ]
  },
  {
   "cell_type": "code",
   "execution_count": 911,
   "metadata": {},
   "outputs": [
    {
     "name": "stdout",
     "output_type": "stream",
     "text": [
      "datetime: 115626\n",
      "prices: 115626\n"
     ]
    }
   ],
   "source": [
    "print(f'datetime: {len(date_times)}\\nprices: {len(BTC_prices)}')"
   ]
  },
  {
   "cell_type": "code",
   "execution_count": 912,
   "metadata": {},
   "outputs": [
    {
     "name": "stdout",
     "output_type": "stream",
     "text": [
      "RSI: 109389\n",
      "ADL: 71354\n",
      "slp: 71354\n",
      "OBV: 71355\n",
      "slp: 71355\n"
     ]
    }
   ],
   "source": [
    "print(f'RSI: {len(BTC_RSIs)}\\nADL: {len(BTC_ADLs)}\\nslp: {len(BTC_ADL_slope)}\\nOBV: {len(BTC_OBVs)}\\nslp: {len(BTC_OBV_slope)}')"
   ]
  },
  {
   "cell_type": "code",
   "execution_count": 913,
   "metadata": {},
   "outputs": [],
   "source": [
    "BTC_Data = {'Date': BTC_datetimes[0:71354], 'Prices': BTC_prices[0:71354], 'RSI': BTC_RSIs[0:71354], 'ADL': BTC_ADLs, 'ADL_slope': BTC_ADL_slope, 'OBV': BTC_OBVs[0:71354], 'OBV_slope':BTC_OBV_slope[0:71354]}"
   ]
  },
  {
   "cell_type": "code",
   "execution_count": 914,
   "metadata": {},
   "outputs": [
    {
     "name": "stdout",
     "output_type": "stream",
     "text": [
      "71354 71354 71354 71354 71354 71354 71354\n"
     ]
    }
   ],
   "source": [
    "print(len(BTC_Data['Date']), len(BTC_Data['Prices']), len(BTC_Data['RSI']), len(BTC_Data['ADL']), len(BTC_Data['ADL_slope']), len(BTC_Data['OBV']), len(BTC_Data['OBV_slope']))"
   ]
  },
  {
   "cell_type": "code",
   "execution_count": 915,
   "metadata": {},
   "outputs": [
    {
     "data": {
      "text/html": [
       "<div>\n",
       "<style scoped>\n",
       "    .dataframe tbody tr th:only-of-type {\n",
       "        vertical-align: middle;\n",
       "    }\n",
       "\n",
       "    .dataframe tbody tr th {\n",
       "        vertical-align: top;\n",
       "    }\n",
       "\n",
       "    .dataframe thead th {\n",
       "        text-align: right;\n",
       "    }\n",
       "</style>\n",
       "<table border=\"1\" class=\"dataframe\">\n",
       "  <thead>\n",
       "    <tr style=\"text-align: right;\">\n",
       "      <th></th>\n",
       "      <th>Date</th>\n",
       "      <th>Prices</th>\n",
       "      <th>RSI</th>\n",
       "      <th>ADL</th>\n",
       "      <th>ADL_slope</th>\n",
       "      <th>OBV</th>\n",
       "      <th>OBV_slope</th>\n",
       "    </tr>\n",
       "  </thead>\n",
       "  <tbody>\n",
       "    <tr>\n",
       "      <th>0</th>\n",
       "      <td>[2019-06-15, 01:06:02.514Z]</td>\n",
       "      <td>8644.08</td>\n",
       "      <td>15</td>\n",
       "      <td>9647.0</td>\n",
       "      <td>6.193095</td>\n",
       "      <td>5130</td>\n",
       "      <td>-0.092510</td>\n",
       "    </tr>\n",
       "    <tr>\n",
       "      <th>1</th>\n",
       "      <td>[2019-06-15, 01:06:02.514Z]</td>\n",
       "      <td>8644.08</td>\n",
       "      <td>10</td>\n",
       "      <td>10443.0</td>\n",
       "      <td>2.008249</td>\n",
       "      <td>-5706</td>\n",
       "      <td>0.010063</td>\n",
       "    </tr>\n",
       "    <tr>\n",
       "      <th>2</th>\n",
       "      <td>[2019-06-15, 01:07:00.363Z]</td>\n",
       "      <td>8646.01</td>\n",
       "      <td>15</td>\n",
       "      <td>-4861.0</td>\n",
       "      <td>0.818087</td>\n",
       "      <td>5378</td>\n",
       "      <td>-0.003326</td>\n",
       "    </tr>\n",
       "    <tr>\n",
       "      <th>3</th>\n",
       "      <td>[2019-06-15, 01:08:03.989Z]</td>\n",
       "      <td>8646.01</td>\n",
       "      <td>3</td>\n",
       "      <td>2928.0</td>\n",
       "      <td>-0.057213</td>\n",
       "      <td>10819</td>\n",
       "      <td>2.000370</td>\n",
       "    </tr>\n",
       "    <tr>\n",
       "      <th>4</th>\n",
       "      <td>[2019-06-15, 01:09:03.230Z]</td>\n",
       "      <td>8635.99</td>\n",
       "      <td>9</td>\n",
       "      <td>5203.0</td>\n",
       "      <td>-0.092510</td>\n",
       "      <td>-1</td>\n",
       "      <td>0.000246</td>\n",
       "    </tr>\n",
       "  </tbody>\n",
       "</table>\n",
       "</div>"
      ],
      "text/plain": [
       "                          Date   Prices  RSI      ADL  ADL_slope    OBV  \\\n",
       "0  [2019-06-15, 01:06:02.514Z]  8644.08   15   9647.0   6.193095   5130   \n",
       "1  [2019-06-15, 01:06:02.514Z]  8644.08   10  10443.0   2.008249  -5706   \n",
       "2  [2019-06-15, 01:07:00.363Z]  8646.01   15  -4861.0   0.818087   5378   \n",
       "3  [2019-06-15, 01:08:03.989Z]  8646.01    3   2928.0  -0.057213  10819   \n",
       "4  [2019-06-15, 01:09:03.230Z]  8635.99    9   5203.0  -0.092510     -1   \n",
       "\n",
       "   OBV_slope  \n",
       "0  -0.092510  \n",
       "1   0.010063  \n",
       "2  -0.003326  \n",
       "3   2.000370  \n",
       "4   0.000246  "
      ]
     },
     "execution_count": 915,
     "metadata": {},
     "output_type": "execute_result"
    }
   ],
   "source": [
    "BTC_df = pd.DataFrame(BTC_Data)\n",
    "BTC_df.head()"
   ]
  },
  {
   "cell_type": "code",
   "execution_count": 916,
   "metadata": {},
   "outputs": [],
   "source": [
    "BTC_df['Time'] = BTC_df['Date'][0][1]\n",
    "BTC_df['Date'] = BTC_df['Date'][0][0]"
   ]
  },
  {
   "cell_type": "code",
   "execution_count": 917,
   "metadata": {},
   "outputs": [
    {
     "data": {
      "text/html": [
       "<div>\n",
       "<style scoped>\n",
       "    .dataframe tbody tr th:only-of-type {\n",
       "        vertical-align: middle;\n",
       "    }\n",
       "\n",
       "    .dataframe tbody tr th {\n",
       "        vertical-align: top;\n",
       "    }\n",
       "\n",
       "    .dataframe thead th {\n",
       "        text-align: right;\n",
       "    }\n",
       "</style>\n",
       "<table border=\"1\" class=\"dataframe\">\n",
       "  <thead>\n",
       "    <tr style=\"text-align: right;\">\n",
       "      <th></th>\n",
       "      <th>Date</th>\n",
       "      <th>Prices</th>\n",
       "      <th>RSI</th>\n",
       "      <th>ADL</th>\n",
       "      <th>ADL_slope</th>\n",
       "      <th>OBV</th>\n",
       "      <th>OBV_slope</th>\n",
       "      <th>Time</th>\n",
       "    </tr>\n",
       "  </thead>\n",
       "  <tbody>\n",
       "    <tr>\n",
       "      <th>0</th>\n",
       "      <td>2019-06-15</td>\n",
       "      <td>8644.08</td>\n",
       "      <td>15</td>\n",
       "      <td>9647.0</td>\n",
       "      <td>6.193095</td>\n",
       "      <td>5130</td>\n",
       "      <td>-0.092510</td>\n",
       "      <td>01:06:02.514Z</td>\n",
       "    </tr>\n",
       "    <tr>\n",
       "      <th>1</th>\n",
       "      <td>2019-06-15</td>\n",
       "      <td>8644.08</td>\n",
       "      <td>10</td>\n",
       "      <td>10443.0</td>\n",
       "      <td>2.008249</td>\n",
       "      <td>-5706</td>\n",
       "      <td>0.010063</td>\n",
       "      <td>01:06:02.514Z</td>\n",
       "    </tr>\n",
       "    <tr>\n",
       "      <th>2</th>\n",
       "      <td>2019-06-15</td>\n",
       "      <td>8646.01</td>\n",
       "      <td>15</td>\n",
       "      <td>-4861.0</td>\n",
       "      <td>0.818087</td>\n",
       "      <td>5378</td>\n",
       "      <td>-0.003326</td>\n",
       "      <td>01:06:02.514Z</td>\n",
       "    </tr>\n",
       "    <tr>\n",
       "      <th>3</th>\n",
       "      <td>2019-06-15</td>\n",
       "      <td>8646.01</td>\n",
       "      <td>3</td>\n",
       "      <td>2928.0</td>\n",
       "      <td>-0.057213</td>\n",
       "      <td>10819</td>\n",
       "      <td>2.000370</td>\n",
       "      <td>01:06:02.514Z</td>\n",
       "    </tr>\n",
       "    <tr>\n",
       "      <th>4</th>\n",
       "      <td>2019-06-15</td>\n",
       "      <td>8635.99</td>\n",
       "      <td>9</td>\n",
       "      <td>5203.0</td>\n",
       "      <td>-0.092510</td>\n",
       "      <td>-1</td>\n",
       "      <td>0.000246</td>\n",
       "      <td>01:06:02.514Z</td>\n",
       "    </tr>\n",
       "  </tbody>\n",
       "</table>\n",
       "</div>"
      ],
      "text/plain": [
       "         Date   Prices  RSI      ADL  ADL_slope    OBV  OBV_slope  \\\n",
       "0  2019-06-15  8644.08   15   9647.0   6.193095   5130  -0.092510   \n",
       "1  2019-06-15  8644.08   10  10443.0   2.008249  -5706   0.010063   \n",
       "2  2019-06-15  8646.01   15  -4861.0   0.818087   5378  -0.003326   \n",
       "3  2019-06-15  8646.01    3   2928.0  -0.057213  10819   2.000370   \n",
       "4  2019-06-15  8635.99    9   5203.0  -0.092510     -1   0.000246   \n",
       "\n",
       "            Time  \n",
       "0  01:06:02.514Z  \n",
       "1  01:06:02.514Z  \n",
       "2  01:06:02.514Z  \n",
       "3  01:06:02.514Z  \n",
       "4  01:06:02.514Z  "
      ]
     },
     "execution_count": 917,
     "metadata": {},
     "output_type": "execute_result"
    }
   ],
   "source": [
    "BTC_df.head()"
   ]
  },
  {
   "cell_type": "code",
   "execution_count": 918,
   "metadata": {},
   "outputs": [],
   "source": [
    "cols = ['Date', 'Time', 'Prices', 'RSI', 'ADL', 'ADL_slope', 'OBV', 'OBV_slope']\n",
    "BTC_df = BTC_df.reindex(columns=cols)"
   ]
  },
  {
   "cell_type": "code",
   "execution_count": 919,
   "metadata": {},
   "outputs": [
    {
     "data": {
      "text/html": [
       "<div>\n",
       "<style scoped>\n",
       "    .dataframe tbody tr th:only-of-type {\n",
       "        vertical-align: middle;\n",
       "    }\n",
       "\n",
       "    .dataframe tbody tr th {\n",
       "        vertical-align: top;\n",
       "    }\n",
       "\n",
       "    .dataframe thead th {\n",
       "        text-align: right;\n",
       "    }\n",
       "</style>\n",
       "<table border=\"1\" class=\"dataframe\">\n",
       "  <thead>\n",
       "    <tr style=\"text-align: right;\">\n",
       "      <th></th>\n",
       "      <th>Date</th>\n",
       "      <th>Time</th>\n",
       "      <th>Prices</th>\n",
       "      <th>RSI</th>\n",
       "      <th>ADL</th>\n",
       "      <th>ADL_slope</th>\n",
       "      <th>OBV</th>\n",
       "      <th>OBV_slope</th>\n",
       "    </tr>\n",
       "  </thead>\n",
       "  <tbody>\n",
       "    <tr>\n",
       "      <th>0</th>\n",
       "      <td>2019-06-15</td>\n",
       "      <td>01:06:02.514Z</td>\n",
       "      <td>8644.08</td>\n",
       "      <td>15</td>\n",
       "      <td>9647.0</td>\n",
       "      <td>6.193095</td>\n",
       "      <td>5130</td>\n",
       "      <td>-0.092510</td>\n",
       "    </tr>\n",
       "    <tr>\n",
       "      <th>1</th>\n",
       "      <td>2019-06-15</td>\n",
       "      <td>01:06:02.514Z</td>\n",
       "      <td>8644.08</td>\n",
       "      <td>10</td>\n",
       "      <td>10443.0</td>\n",
       "      <td>2.008249</td>\n",
       "      <td>-5706</td>\n",
       "      <td>0.010063</td>\n",
       "    </tr>\n",
       "    <tr>\n",
       "      <th>2</th>\n",
       "      <td>2019-06-15</td>\n",
       "      <td>01:06:02.514Z</td>\n",
       "      <td>8646.01</td>\n",
       "      <td>15</td>\n",
       "      <td>-4861.0</td>\n",
       "      <td>0.818087</td>\n",
       "      <td>5378</td>\n",
       "      <td>-0.003326</td>\n",
       "    </tr>\n",
       "    <tr>\n",
       "      <th>3</th>\n",
       "      <td>2019-06-15</td>\n",
       "      <td>01:06:02.514Z</td>\n",
       "      <td>8646.01</td>\n",
       "      <td>3</td>\n",
       "      <td>2928.0</td>\n",
       "      <td>-0.057213</td>\n",
       "      <td>10819</td>\n",
       "      <td>2.000370</td>\n",
       "    </tr>\n",
       "    <tr>\n",
       "      <th>4</th>\n",
       "      <td>2019-06-15</td>\n",
       "      <td>01:06:02.514Z</td>\n",
       "      <td>8635.99</td>\n",
       "      <td>9</td>\n",
       "      <td>5203.0</td>\n",
       "      <td>-0.092510</td>\n",
       "      <td>-1</td>\n",
       "      <td>0.000246</td>\n",
       "    </tr>\n",
       "    <tr>\n",
       "      <th>5</th>\n",
       "      <td>2019-06-15</td>\n",
       "      <td>01:06:02.514Z</td>\n",
       "      <td>8630.18</td>\n",
       "      <td>5</td>\n",
       "      <td>-6067.0</td>\n",
       "      <td>0.055845</td>\n",
       "      <td>-10854</td>\n",
       "      <td>1.996564</td>\n",
       "    </tr>\n",
       "    <tr>\n",
       "      <th>6</th>\n",
       "      <td>2019-06-15</td>\n",
       "      <td>01:06:02.514Z</td>\n",
       "      <td>8631.73</td>\n",
       "      <td>15</td>\n",
       "      <td>-5675.0</td>\n",
       "      <td>4.266566</td>\n",
       "      <td>-16287</td>\n",
       "      <td>1.999387</td>\n",
       "    </tr>\n",
       "    <tr>\n",
       "      <th>7</th>\n",
       "      <td>2019-06-15</td>\n",
       "      <td>01:06:02.514Z</td>\n",
       "      <td>8639.20</td>\n",
       "      <td>14</td>\n",
       "      <td>3510.0</td>\n",
       "      <td>0.676081</td>\n",
       "      <td>-16293</td>\n",
       "      <td>2.000123</td>\n",
       "    </tr>\n",
       "    <tr>\n",
       "      <th>8</th>\n",
       "      <td>2019-06-15</td>\n",
       "      <td>01:06:02.514Z</td>\n",
       "      <td>8633.44</td>\n",
       "      <td>9</td>\n",
       "      <td>16145.0</td>\n",
       "      <td>1.985836</td>\n",
       "      <td>8</td>\n",
       "      <td>-0.000454</td>\n",
       "    </tr>\n",
       "    <tr>\n",
       "      <th>9</th>\n",
       "      <td>2019-06-15</td>\n",
       "      <td>01:06:02.514Z</td>\n",
       "      <td>8633.78</td>\n",
       "      <td>14</td>\n",
       "      <td>4.0</td>\n",
       "      <td>0.000000</td>\n",
       "      <td>-13582</td>\n",
       "      <td>1.999509</td>\n",
       "    </tr>\n",
       "    <tr>\n",
       "      <th>10</th>\n",
       "      <td>2019-06-15</td>\n",
       "      <td>01:06:02.514Z</td>\n",
       "      <td>8638.90</td>\n",
       "      <td>24</td>\n",
       "      <td>11362.0</td>\n",
       "      <td>1.943075</td>\n",
       "      <td>-10864</td>\n",
       "      <td>0.999877</td>\n",
       "    </tr>\n",
       "    <tr>\n",
       "      <th>11</th>\n",
       "      <td>2019-06-15</td>\n",
       "      <td>01:06:02.514Z</td>\n",
       "      <td>8637.09</td>\n",
       "      <td>24</td>\n",
       "      <td>-22573.0</td>\n",
       "      <td>0.721591</td>\n",
       "      <td>-16300</td>\n",
       "      <td>1.999509</td>\n",
       "    </tr>\n",
       "    <tr>\n",
       "      <th>12</th>\n",
       "      <td>2019-06-15</td>\n",
       "      <td>01:06:02.514Z</td>\n",
       "      <td>8657.45</td>\n",
       "      <td>15</td>\n",
       "      <td>-23936.0</td>\n",
       "      <td>1.999509</td>\n",
       "      <td>-1</td>\n",
       "      <td>-0.000368</td>\n",
       "    </tr>\n",
       "    <tr>\n",
       "      <th>13</th>\n",
       "      <td>2019-06-15</td>\n",
       "      <td>01:06:02.514Z</td>\n",
       "      <td>8653.59</td>\n",
       "      <td>25</td>\n",
       "      <td>-16303.0</td>\n",
       "      <td>1.999509</td>\n",
       "      <td>-1</td>\n",
       "      <td>0.000245</td>\n",
       "    </tr>\n",
       "    <tr>\n",
       "      <th>14</th>\n",
       "      <td>2019-06-15</td>\n",
       "      <td>01:06:02.514Z</td>\n",
       "      <td>8652.26</td>\n",
       "      <td>15</td>\n",
       "      <td>67.0</td>\n",
       "      <td>0.008032</td>\n",
       "      <td>-16292</td>\n",
       "      <td>1.999509</td>\n",
       "    </tr>\n",
       "    <tr>\n",
       "      <th>15</th>\n",
       "      <td>2019-06-15</td>\n",
       "      <td>01:06:02.514Z</td>\n",
       "      <td>8653.40</td>\n",
       "      <td>18</td>\n",
       "      <td>-25971.0</td>\n",
       "      <td>4.808659</td>\n",
       "      <td>-8145</td>\n",
       "      <td>4073.500000</td>\n",
       "    </tr>\n",
       "    <tr>\n",
       "      <th>16</th>\n",
       "      <td>2019-06-15</td>\n",
       "      <td>01:06:02.514Z</td>\n",
       "      <td>8652.17</td>\n",
       "      <td>17</td>\n",
       "      <td>-3589.0</td>\n",
       "      <td>-0.000491</td>\n",
       "      <td>10866</td>\n",
       "      <td>2.000123</td>\n",
       "    </tr>\n",
       "    <tr>\n",
       "      <th>17</th>\n",
       "      <td>2019-06-15</td>\n",
       "      <td>01:06:02.514Z</td>\n",
       "      <td>8645.01</td>\n",
       "      <td>20</td>\n",
       "      <td>28.0</td>\n",
       "      <td>-0.000614</td>\n",
       "      <td>-10869</td>\n",
       "      <td>1.999632</td>\n",
       "    </tr>\n",
       "    <tr>\n",
       "      <th>18</th>\n",
       "      <td>2019-06-15</td>\n",
       "      <td>01:06:02.514Z</td>\n",
       "      <td>8643.02</td>\n",
       "      <td>61</td>\n",
       "      <td>10914.0</td>\n",
       "      <td>2.008589</td>\n",
       "      <td>-16303</td>\n",
       "      <td>1.999755</td>\n",
       "    </tr>\n",
       "    <tr>\n",
       "      <th>19</th>\n",
       "      <td>2019-06-15</td>\n",
       "      <td>01:06:02.514Z</td>\n",
       "      <td>8642.82</td>\n",
       "      <td>63</td>\n",
       "      <td>-10860.0</td>\n",
       "      <td>1.998528</td>\n",
       "      <td>0</td>\n",
       "      <td>0.000000</td>\n",
       "    </tr>\n",
       "    <tr>\n",
       "      <th>20</th>\n",
       "      <td>2019-06-15</td>\n",
       "      <td>01:06:02.514Z</td>\n",
       "      <td>8643.00</td>\n",
       "      <td>73</td>\n",
       "      <td>2431.0</td>\n",
       "      <td>-0.583706</td>\n",
       "      <td>-10866</td>\n",
       "      <td>1.998774</td>\n",
       "    </tr>\n",
       "    <tr>\n",
       "      <th>21</th>\n",
       "      <td>2019-06-15</td>\n",
       "      <td>01:06:02.514Z</td>\n",
       "      <td>8646.00</td>\n",
       "      <td>66</td>\n",
       "      <td>-999.0</td>\n",
       "      <td>-0.000245</td>\n",
       "      <td>10866</td>\n",
       "      <td>2.000736</td>\n",
       "    </tr>\n",
       "    <tr>\n",
       "      <th>22</th>\n",
       "      <td>2019-06-15</td>\n",
       "      <td>01:06:02.514Z</td>\n",
       "      <td>8647.33</td>\n",
       "      <td>61</td>\n",
       "      <td>-336560.0</td>\n",
       "      <td>1.024406</td>\n",
       "      <td>-10857</td>\n",
       "      <td>1.999386</td>\n",
       "    </tr>\n",
       "    <tr>\n",
       "      <th>23</th>\n",
       "      <td>2019-06-15</td>\n",
       "      <td>01:06:02.514Z</td>\n",
       "      <td>8643.92</td>\n",
       "      <td>32</td>\n",
       "      <td>-235151.0</td>\n",
       "      <td>34.813836</td>\n",
       "      <td>7</td>\n",
       "      <td>-0.000614</td>\n",
       "    </tr>\n",
       "    <tr>\n",
       "      <th>24</th>\n",
       "      <td>2019-06-15</td>\n",
       "      <td>01:06:02.514Z</td>\n",
       "      <td>8643.91</td>\n",
       "      <td>56</td>\n",
       "      <td>-109727.0</td>\n",
       "      <td>-0.213548</td>\n",
       "      <td>-16280</td>\n",
       "      <td>2.000737</td>\n",
       "    </tr>\n",
       "  </tbody>\n",
       "</table>\n",
       "</div>"
      ],
      "text/plain": [
       "          Date           Time   Prices  RSI       ADL  ADL_slope    OBV  \\\n",
       "0   2019-06-15  01:06:02.514Z  8644.08   15    9647.0   6.193095   5130   \n",
       "1   2019-06-15  01:06:02.514Z  8644.08   10   10443.0   2.008249  -5706   \n",
       "2   2019-06-15  01:06:02.514Z  8646.01   15   -4861.0   0.818087   5378   \n",
       "3   2019-06-15  01:06:02.514Z  8646.01    3    2928.0  -0.057213  10819   \n",
       "4   2019-06-15  01:06:02.514Z  8635.99    9    5203.0  -0.092510     -1   \n",
       "5   2019-06-15  01:06:02.514Z  8630.18    5   -6067.0   0.055845 -10854   \n",
       "6   2019-06-15  01:06:02.514Z  8631.73   15   -5675.0   4.266566 -16287   \n",
       "7   2019-06-15  01:06:02.514Z  8639.20   14    3510.0   0.676081 -16293   \n",
       "8   2019-06-15  01:06:02.514Z  8633.44    9   16145.0   1.985836      8   \n",
       "9   2019-06-15  01:06:02.514Z  8633.78   14       4.0   0.000000 -13582   \n",
       "10  2019-06-15  01:06:02.514Z  8638.90   24   11362.0   1.943075 -10864   \n",
       "11  2019-06-15  01:06:02.514Z  8637.09   24  -22573.0   0.721591 -16300   \n",
       "12  2019-06-15  01:06:02.514Z  8657.45   15  -23936.0   1.999509     -1   \n",
       "13  2019-06-15  01:06:02.514Z  8653.59   25  -16303.0   1.999509     -1   \n",
       "14  2019-06-15  01:06:02.514Z  8652.26   15      67.0   0.008032 -16292   \n",
       "15  2019-06-15  01:06:02.514Z  8653.40   18  -25971.0   4.808659  -8145   \n",
       "16  2019-06-15  01:06:02.514Z  8652.17   17   -3589.0  -0.000491  10866   \n",
       "17  2019-06-15  01:06:02.514Z  8645.01   20      28.0  -0.000614 -10869   \n",
       "18  2019-06-15  01:06:02.514Z  8643.02   61   10914.0   2.008589 -16303   \n",
       "19  2019-06-15  01:06:02.514Z  8642.82   63  -10860.0   1.998528      0   \n",
       "20  2019-06-15  01:06:02.514Z  8643.00   73    2431.0  -0.583706 -10866   \n",
       "21  2019-06-15  01:06:02.514Z  8646.00   66    -999.0  -0.000245  10866   \n",
       "22  2019-06-15  01:06:02.514Z  8647.33   61 -336560.0   1.024406 -10857   \n",
       "23  2019-06-15  01:06:02.514Z  8643.92   32 -235151.0  34.813836      7   \n",
       "24  2019-06-15  01:06:02.514Z  8643.91   56 -109727.0  -0.213548 -16280   \n",
       "\n",
       "      OBV_slope  \n",
       "0     -0.092510  \n",
       "1      0.010063  \n",
       "2     -0.003326  \n",
       "3      2.000370  \n",
       "4      0.000246  \n",
       "5      1.996564  \n",
       "6      1.999387  \n",
       "7      2.000123  \n",
       "8     -0.000454  \n",
       "9      1.999509  \n",
       "10     0.999877  \n",
       "11     1.999509  \n",
       "12    -0.000368  \n",
       "13     0.000245  \n",
       "14     1.999509  \n",
       "15  4073.500000  \n",
       "16     2.000123  \n",
       "17     1.999632  \n",
       "18     1.999755  \n",
       "19     0.000000  \n",
       "20     1.998774  \n",
       "21     2.000736  \n",
       "22     1.999386  \n",
       "23    -0.000614  \n",
       "24     2.000737  "
      ]
     },
     "execution_count": 919,
     "metadata": {},
     "output_type": "execute_result"
    }
   ],
   "source": [
    "BTC_df.head(25)"
   ]
  },
  {
   "cell_type": "code",
   "execution_count": 920,
   "metadata": {},
   "outputs": [
    {
     "data": {
      "text/html": [
       "<div>\n",
       "<style scoped>\n",
       "    .dataframe tbody tr th:only-of-type {\n",
       "        vertical-align: middle;\n",
       "    }\n",
       "\n",
       "    .dataframe tbody tr th {\n",
       "        vertical-align: top;\n",
       "    }\n",
       "\n",
       "    .dataframe thead th {\n",
       "        text-align: right;\n",
       "    }\n",
       "</style>\n",
       "<table border=\"1\" class=\"dataframe\">\n",
       "  <thead>\n",
       "    <tr style=\"text-align: right;\">\n",
       "      <th></th>\n",
       "      <th>Prices</th>\n",
       "      <th>RSI</th>\n",
       "      <th>ADL</th>\n",
       "      <th>ADL_slope</th>\n",
       "      <th>OBV</th>\n",
       "      <th>OBV_slope</th>\n",
       "    </tr>\n",
       "  </thead>\n",
       "  <tbody>\n",
       "    <tr>\n",
       "      <th>count</th>\n",
       "      <td>71354.000000</td>\n",
       "      <td>71354.000000</td>\n",
       "      <td>7.134300e+04</td>\n",
       "      <td>7.134300e+04</td>\n",
       "      <td>71354.000000</td>\n",
       "      <td>71342.000000</td>\n",
       "    </tr>\n",
       "    <tr>\n",
       "      <th>mean</th>\n",
       "      <td>10634.996490</td>\n",
       "      <td>49.160187</td>\n",
       "      <td>-6.488211e+05</td>\n",
       "      <td>-2.372187e+01</td>\n",
       "      <td>384.097402</td>\n",
       "      <td>11.397267</td>\n",
       "    </tr>\n",
       "    <tr>\n",
       "      <th>std</th>\n",
       "      <td>929.410065</td>\n",
       "      <td>15.745474</td>\n",
       "      <td>1.104352e+08</td>\n",
       "      <td>6.637674e+03</td>\n",
       "      <td>14721.037909</td>\n",
       "      <td>637.845667</td>\n",
       "    </tr>\n",
       "    <tr>\n",
       "      <th>min</th>\n",
       "      <td>8619.020000</td>\n",
       "      <td>0.000000</td>\n",
       "      <td>-2.364788e+10</td>\n",
       "      <td>-1.717722e+06</td>\n",
       "      <td>-93240.000000</td>\n",
       "      <td>-14771.500000</td>\n",
       "    </tr>\n",
       "    <tr>\n",
       "      <th>25%</th>\n",
       "      <td>10057.645000</td>\n",
       "      <td>38.000000</td>\n",
       "      <td>-2.000000e+00</td>\n",
       "      <td>1.275075e-03</td>\n",
       "      <td>-7006.000000</td>\n",
       "      <td>0.000088</td>\n",
       "    </tr>\n",
       "    <tr>\n",
       "      <th>50%</th>\n",
       "      <td>10556.565000</td>\n",
       "      <td>50.000000</td>\n",
       "      <td>8.788000e+03</td>\n",
       "      <td>1.969937e+00</td>\n",
       "      <td>2.000000</td>\n",
       "      <td>1.000113</td>\n",
       "    </tr>\n",
       "    <tr>\n",
       "      <th>75%</th>\n",
       "      <td>11326.890000</td>\n",
       "      <td>60.000000</td>\n",
       "      <td>1.921600e+04</td>\n",
       "      <td>2.001084e+00</td>\n",
       "      <td>7777.000000</td>\n",
       "      <td>2.000000</td>\n",
       "    </tr>\n",
       "    <tr>\n",
       "      <th>max</th>\n",
       "      <td>13156.700000</td>\n",
       "      <td>100.000000</td>\n",
       "      <td>5.892917e+07</td>\n",
       "      <td>3.213295e+05</td>\n",
       "      <td>93639.000000</td>\n",
       "      <td>14563.500000</td>\n",
       "    </tr>\n",
       "  </tbody>\n",
       "</table>\n",
       "</div>"
      ],
      "text/plain": [
       "             Prices           RSI           ADL     ADL_slope           OBV  \\\n",
       "count  71354.000000  71354.000000  7.134300e+04  7.134300e+04  71354.000000   \n",
       "mean   10634.996490     49.160187 -6.488211e+05 -2.372187e+01    384.097402   \n",
       "std      929.410065     15.745474  1.104352e+08  6.637674e+03  14721.037909   \n",
       "min     8619.020000      0.000000 -2.364788e+10 -1.717722e+06 -93240.000000   \n",
       "25%    10057.645000     38.000000 -2.000000e+00  1.275075e-03  -7006.000000   \n",
       "50%    10556.565000     50.000000  8.788000e+03  1.969937e+00      2.000000   \n",
       "75%    11326.890000     60.000000  1.921600e+04  2.001084e+00   7777.000000   \n",
       "max    13156.700000    100.000000  5.892917e+07  3.213295e+05  93639.000000   \n",
       "\n",
       "          OBV_slope  \n",
       "count  71342.000000  \n",
       "mean      11.397267  \n",
       "std      637.845667  \n",
       "min   -14771.500000  \n",
       "25%        0.000088  \n",
       "50%        1.000113  \n",
       "75%        2.000000  \n",
       "max    14563.500000  "
      ]
     },
     "execution_count": 920,
     "metadata": {},
     "output_type": "execute_result"
    }
   ],
   "source": [
    "BTC_df.describe()"
   ]
  },
  {
   "cell_type": "code",
   "execution_count": 921,
   "metadata": {},
   "outputs": [
    {
     "name": "stdout",
     "output_type": "stream",
     "text": [
      "<class 'pandas.core.frame.DataFrame'>\n",
      "RangeIndex: 71354 entries, 0 to 71353\n",
      "Data columns (total 8 columns):\n",
      "Date         71354 non-null object\n",
      "Time         71354 non-null object\n",
      "Prices       71354 non-null float64\n",
      "RSI          71354 non-null int64\n",
      "ADL          71343 non-null float64\n",
      "ADL_slope    71343 non-null float64\n",
      "OBV          71354 non-null int64\n",
      "OBV_slope    71342 non-null float64\n",
      "dtypes: float64(4), int64(2), object(2)\n",
      "memory usage: 4.4+ MB\n"
     ]
    }
   ],
   "source": [
    "BTC_df.info()"
   ]
  },
  {
   "cell_type": "code",
   "execution_count": 922,
   "metadata": {},
   "outputs": [],
   "source": [
    "ADL_avg = BTC_df.ADL.mean()\n",
    "ADL_slp_avg = BTC_df.ADL_slope.mean()\n",
    "OBV_slp_avg = BTC_df.OBV_slope.mean()"
   ]
  },
  {
   "cell_type": "code",
   "execution_count": 925,
   "metadata": {},
   "outputs": [
    {
     "data": {
      "text/html": [
       "<div>\n",
       "<style scoped>\n",
       "    .dataframe tbody tr th:only-of-type {\n",
       "        vertical-align: middle;\n",
       "    }\n",
       "\n",
       "    .dataframe tbody tr th {\n",
       "        vertical-align: top;\n",
       "    }\n",
       "\n",
       "    .dataframe thead th {\n",
       "        text-align: right;\n",
       "    }\n",
       "</style>\n",
       "<table border=\"1\" class=\"dataframe\">\n",
       "  <thead>\n",
       "    <tr style=\"text-align: right;\">\n",
       "      <th></th>\n",
       "      <th>Date</th>\n",
       "      <th>Time</th>\n",
       "      <th>Prices</th>\n",
       "      <th>RSI</th>\n",
       "      <th>ADL</th>\n",
       "      <th>ADL_slope</th>\n",
       "      <th>OBV</th>\n",
       "      <th>OBV_slope</th>\n",
       "    </tr>\n",
       "  </thead>\n",
       "  <tbody>\n",
       "    <tr>\n",
       "      <th>0</th>\n",
       "      <td>2019-06-15</td>\n",
       "      <td>01:06:02.514Z</td>\n",
       "      <td>8644.08</td>\n",
       "      <td>15</td>\n",
       "      <td>9647.0</td>\n",
       "      <td>6.193095</td>\n",
       "      <td>5130</td>\n",
       "      <td>-0.092510</td>\n",
       "    </tr>\n",
       "    <tr>\n",
       "      <th>1</th>\n",
       "      <td>2019-06-15</td>\n",
       "      <td>01:06:02.514Z</td>\n",
       "      <td>8644.08</td>\n",
       "      <td>10</td>\n",
       "      <td>10443.0</td>\n",
       "      <td>2.008249</td>\n",
       "      <td>-5706</td>\n",
       "      <td>0.010063</td>\n",
       "    </tr>\n",
       "    <tr>\n",
       "      <th>2</th>\n",
       "      <td>2019-06-15</td>\n",
       "      <td>01:06:02.514Z</td>\n",
       "      <td>8646.01</td>\n",
       "      <td>15</td>\n",
       "      <td>-4861.0</td>\n",
       "      <td>0.818087</td>\n",
       "      <td>5378</td>\n",
       "      <td>-0.003326</td>\n",
       "    </tr>\n",
       "    <tr>\n",
       "      <th>3</th>\n",
       "      <td>2019-06-15</td>\n",
       "      <td>01:06:02.514Z</td>\n",
       "      <td>8646.01</td>\n",
       "      <td>3</td>\n",
       "      <td>2928.0</td>\n",
       "      <td>-0.057213</td>\n",
       "      <td>10819</td>\n",
       "      <td>2.000370</td>\n",
       "    </tr>\n",
       "    <tr>\n",
       "      <th>4</th>\n",
       "      <td>2019-06-15</td>\n",
       "      <td>01:06:02.514Z</td>\n",
       "      <td>8635.99</td>\n",
       "      <td>9</td>\n",
       "      <td>5203.0</td>\n",
       "      <td>-0.092510</td>\n",
       "      <td>-1</td>\n",
       "      <td>0.000246</td>\n",
       "    </tr>\n",
       "  </tbody>\n",
       "</table>\n",
       "</div>"
      ],
      "text/plain": [
       "         Date           Time   Prices  RSI      ADL  ADL_slope    OBV  \\\n",
       "0  2019-06-15  01:06:02.514Z  8644.08   15   9647.0   6.193095   5130   \n",
       "1  2019-06-15  01:06:02.514Z  8644.08   10  10443.0   2.008249  -5706   \n",
       "2  2019-06-15  01:06:02.514Z  8646.01   15  -4861.0   0.818087   5378   \n",
       "3  2019-06-15  01:06:02.514Z  8646.01    3   2928.0  -0.057213  10819   \n",
       "4  2019-06-15  01:06:02.514Z  8635.99    9   5203.0  -0.092510     -1   \n",
       "\n",
       "   OBV_slope  \n",
       "0  -0.092510  \n",
       "1   0.010063  \n",
       "2  -0.003326  \n",
       "3   2.000370  \n",
       "4   0.000246  "
      ]
     },
     "execution_count": 925,
     "metadata": {},
     "output_type": "execute_result"
    }
   ],
   "source": [
    "values = {'ADL': ADL_avg, 'ADL_slope': ADL_slp_avg, 'OBV_slope': OBV_slp_avg}\n",
    "BTC_df = BTC_df.fillna(value=values)\n",
    "BTC_df.head()"
   ]
  },
  {
   "cell_type": "code",
   "execution_count": 926,
   "metadata": {},
   "outputs": [
    {
     "name": "stdout",
     "output_type": "stream",
     "text": [
      "<class 'pandas.core.frame.DataFrame'>\n",
      "RangeIndex: 71354 entries, 0 to 71353\n",
      "Data columns (total 8 columns):\n",
      "Date         71354 non-null object\n",
      "Time         71354 non-null object\n",
      "Prices       71354 non-null float64\n",
      "RSI          71354 non-null int64\n",
      "ADL          71354 non-null float64\n",
      "ADL_slope    71354 non-null float64\n",
      "OBV          71354 non-null int64\n",
      "OBV_slope    71354 non-null float64\n",
      "dtypes: float64(4), int64(2), object(2)\n",
      "memory usage: 4.4+ MB\n"
     ]
    }
   ],
   "source": [
    "BTC_df.info()"
   ]
  },
  {
   "cell_type": "code",
   "execution_count": 934,
   "metadata": {},
   "outputs": [],
   "source": [
    "from numpy.random import seed\n",
    "from sklearn.model_selection import train_test_split\n",
    "from sklearn.preprocessing import StandardScaler\n",
    "np.random.seed(42)"
   ]
  },
  {
   "cell_type": "code",
   "execution_count": 932,
   "metadata": {},
   "outputs": [
    {
     "name": "stdout",
     "output_type": "stream",
     "text": [
      "(71354, 7)\n",
      "(71354,)\n"
     ]
    }
   ],
   "source": [
    "X = BTC_df.drop('Prices', axis=1)\n",
    "y = BTC_df['Prices'].values\n",
    "print(X.shape)\n",
    "print(y.shape)"
   ]
  },
  {
   "cell_type": "code",
   "execution_count": 931,
   "metadata": {},
   "outputs": [],
   "source": [
    "X_train, X_test, y_train, y_test = train_test_split(X, y, test_size=0.3, random_state=1)"
   ]
  },
  {
   "cell_type": "code",
   "execution_count": 933,
   "metadata": {},
   "outputs": [
    {
     "name": "stdout",
     "output_type": "stream",
     "text": [
      "(49947, 7)\n",
      "(49947,)\n"
     ]
    }
   ],
   "source": [
    "print(X_train.shape)\n",
    "print(y_train.shape)"
   ]
  },
  {
   "cell_type": "code",
   "execution_count": 935,
   "metadata": {},
   "outputs": [
    {
     "ename": "ValueError",
     "evalue": "could not convert string to float: '2019-06-15'",
     "output_type": "error",
     "traceback": [
      "\u001b[0;31m---------------------------------------------------------------------------\u001b[0m",
      "\u001b[0;31mValueError\u001b[0m                                Traceback (most recent call last)",
      "\u001b[0;32m<ipython-input-935-317aa124eb7d>\u001b[0m in \u001b[0;36m<module>\u001b[0;34m\u001b[0m\n\u001b[0;32m----> 1\u001b[0;31m \u001b[0mX_scaler\u001b[0m \u001b[0;34m=\u001b[0m \u001b[0mStandardScaler\u001b[0m\u001b[0;34m(\u001b[0m\u001b[0;34m)\u001b[0m\u001b[0;34m.\u001b[0m\u001b[0mfit\u001b[0m\u001b[0;34m(\u001b[0m\u001b[0mX_train\u001b[0m\u001b[0;34m)\u001b[0m\u001b[0;34m\u001b[0m\u001b[0;34m\u001b[0m\u001b[0m\n\u001b[0m",
      "\u001b[0;32m/usr/local/lib/python3.7/site-packages/sklearn/preprocessing/data.py\u001b[0m in \u001b[0;36mfit\u001b[0;34m(self, X, y)\u001b[0m\n\u001b[1;32m    637\u001b[0m         \u001b[0;31m# Reset internal state before fitting\u001b[0m\u001b[0;34m\u001b[0m\u001b[0;34m\u001b[0m\u001b[0;34m\u001b[0m\u001b[0m\n\u001b[1;32m    638\u001b[0m         \u001b[0mself\u001b[0m\u001b[0;34m.\u001b[0m\u001b[0m_reset\u001b[0m\u001b[0;34m(\u001b[0m\u001b[0;34m)\u001b[0m\u001b[0;34m\u001b[0m\u001b[0;34m\u001b[0m\u001b[0m\n\u001b[0;32m--> 639\u001b[0;31m         \u001b[0;32mreturn\u001b[0m \u001b[0mself\u001b[0m\u001b[0;34m.\u001b[0m\u001b[0mpartial_fit\u001b[0m\u001b[0;34m(\u001b[0m\u001b[0mX\u001b[0m\u001b[0;34m,\u001b[0m \u001b[0my\u001b[0m\u001b[0;34m)\u001b[0m\u001b[0;34m\u001b[0m\u001b[0;34m\u001b[0m\u001b[0m\n\u001b[0m\u001b[1;32m    640\u001b[0m \u001b[0;34m\u001b[0m\u001b[0m\n\u001b[1;32m    641\u001b[0m     \u001b[0;32mdef\u001b[0m \u001b[0mpartial_fit\u001b[0m\u001b[0;34m(\u001b[0m\u001b[0mself\u001b[0m\u001b[0;34m,\u001b[0m \u001b[0mX\u001b[0m\u001b[0;34m,\u001b[0m \u001b[0my\u001b[0m\u001b[0;34m=\u001b[0m\u001b[0;32mNone\u001b[0m\u001b[0;34m)\u001b[0m\u001b[0;34m:\u001b[0m\u001b[0;34m\u001b[0m\u001b[0;34m\u001b[0m\u001b[0m\n",
      "\u001b[0;32m/usr/local/lib/python3.7/site-packages/sklearn/preprocessing/data.py\u001b[0m in \u001b[0;36mpartial_fit\u001b[0;34m(self, X, y)\u001b[0m\n\u001b[1;32m    661\u001b[0m         X = check_array(X, accept_sparse=('csr', 'csc'), copy=self.copy,\n\u001b[1;32m    662\u001b[0m                         \u001b[0mestimator\u001b[0m\u001b[0;34m=\u001b[0m\u001b[0mself\u001b[0m\u001b[0;34m,\u001b[0m \u001b[0mdtype\u001b[0m\u001b[0;34m=\u001b[0m\u001b[0mFLOAT_DTYPES\u001b[0m\u001b[0;34m,\u001b[0m\u001b[0;34m\u001b[0m\u001b[0;34m\u001b[0m\u001b[0m\n\u001b[0;32m--> 663\u001b[0;31m                         force_all_finite='allow-nan')\n\u001b[0m\u001b[1;32m    664\u001b[0m \u001b[0;34m\u001b[0m\u001b[0m\n\u001b[1;32m    665\u001b[0m         \u001b[0;31m# Even in the case of `with_mean=False`, we update the mean anyway\u001b[0m\u001b[0;34m\u001b[0m\u001b[0;34m\u001b[0m\u001b[0;34m\u001b[0m\u001b[0m\n",
      "\u001b[0;32m/usr/local/lib/python3.7/site-packages/sklearn/utils/validation.py\u001b[0m in \u001b[0;36mcheck_array\u001b[0;34m(array, accept_sparse, accept_large_sparse, dtype, order, copy, force_all_finite, ensure_2d, allow_nd, ensure_min_samples, ensure_min_features, warn_on_dtype, estimator)\u001b[0m\n\u001b[1;32m    494\u001b[0m             \u001b[0;32mtry\u001b[0m\u001b[0;34m:\u001b[0m\u001b[0;34m\u001b[0m\u001b[0;34m\u001b[0m\u001b[0m\n\u001b[1;32m    495\u001b[0m                 \u001b[0mwarnings\u001b[0m\u001b[0;34m.\u001b[0m\u001b[0msimplefilter\u001b[0m\u001b[0;34m(\u001b[0m\u001b[0;34m'error'\u001b[0m\u001b[0;34m,\u001b[0m \u001b[0mComplexWarning\u001b[0m\u001b[0;34m)\u001b[0m\u001b[0;34m\u001b[0m\u001b[0;34m\u001b[0m\u001b[0m\n\u001b[0;32m--> 496\u001b[0;31m                 \u001b[0marray\u001b[0m \u001b[0;34m=\u001b[0m \u001b[0mnp\u001b[0m\u001b[0;34m.\u001b[0m\u001b[0masarray\u001b[0m\u001b[0;34m(\u001b[0m\u001b[0marray\u001b[0m\u001b[0;34m,\u001b[0m \u001b[0mdtype\u001b[0m\u001b[0;34m=\u001b[0m\u001b[0mdtype\u001b[0m\u001b[0;34m,\u001b[0m \u001b[0morder\u001b[0m\u001b[0;34m=\u001b[0m\u001b[0morder\u001b[0m\u001b[0;34m)\u001b[0m\u001b[0;34m\u001b[0m\u001b[0;34m\u001b[0m\u001b[0m\n\u001b[0m\u001b[1;32m    497\u001b[0m             \u001b[0;32mexcept\u001b[0m \u001b[0mComplexWarning\u001b[0m\u001b[0;34m:\u001b[0m\u001b[0;34m\u001b[0m\u001b[0;34m\u001b[0m\u001b[0m\n\u001b[1;32m    498\u001b[0m                 raise ValueError(\"Complex data not supported\\n\"\n",
      "\u001b[0;32m/usr/local/lib/python3.7/site-packages/numpy/core/numeric.py\u001b[0m in \u001b[0;36masarray\u001b[0;34m(a, dtype, order)\u001b[0m\n\u001b[1;32m    536\u001b[0m \u001b[0;34m\u001b[0m\u001b[0m\n\u001b[1;32m    537\u001b[0m     \"\"\"\n\u001b[0;32m--> 538\u001b[0;31m     \u001b[0;32mreturn\u001b[0m \u001b[0marray\u001b[0m\u001b[0;34m(\u001b[0m\u001b[0ma\u001b[0m\u001b[0;34m,\u001b[0m \u001b[0mdtype\u001b[0m\u001b[0;34m,\u001b[0m \u001b[0mcopy\u001b[0m\u001b[0;34m=\u001b[0m\u001b[0;32mFalse\u001b[0m\u001b[0;34m,\u001b[0m \u001b[0morder\u001b[0m\u001b[0;34m=\u001b[0m\u001b[0morder\u001b[0m\u001b[0;34m)\u001b[0m\u001b[0;34m\u001b[0m\u001b[0;34m\u001b[0m\u001b[0m\n\u001b[0m\u001b[1;32m    539\u001b[0m \u001b[0;34m\u001b[0m\u001b[0m\n\u001b[1;32m    540\u001b[0m \u001b[0;34m\u001b[0m\u001b[0m\n",
      "\u001b[0;31mValueError\u001b[0m: could not convert string to float: '2019-06-15'"
     ]
    }
   ],
   "source": [
    "X_scaler = StandardScaler().fit(X_train)"
   ]
  },
  {
   "cell_type": "code",
   "execution_count": null,
   "metadata": {},
   "outputs": [],
   "source": []
  }
 ],
 "metadata": {
  "kernelspec": {
   "display_name": "Python 3",
   "language": "python",
   "name": "python3"
  },
  "language_info": {
   "codemirror_mode": {
    "name": "ipython",
    "version": 3
   },
   "file_extension": ".py",
   "mimetype": "text/x-python",
   "name": "python",
   "nbconvert_exporter": "python",
   "pygments_lexer": "ipython3",
   "version": "3.7.4"
  }
 },
 "nbformat": 4,
 "nbformat_minor": 2
}
