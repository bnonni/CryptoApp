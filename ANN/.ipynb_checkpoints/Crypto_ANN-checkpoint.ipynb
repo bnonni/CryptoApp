{
 "cells": [
  {
   "cell_type": "code",
   "execution_count": 724,
   "metadata": {},
   "outputs": [],
   "source": [
    "import gc, sys, re"
   ]
  },
  {
   "cell_type": "code",
   "execution_count": 725,
   "metadata": {},
   "outputs": [],
   "source": [
    "import pandas as pd\n",
    "import numpy as np\n",
    "import statistics as stat"
   ]
  },
  {
   "cell_type": "code",
   "execution_count": 726,
   "metadata": {},
   "outputs": [],
   "source": [
    "from pymongo import *\n",
    "\n",
    "conn = 'mongodb://localhost:27017'\n",
    "client = MongoClient(conn)\n",
    "db = client.crypto_wallet"
   ]
  },
  {
   "cell_type": "code",
   "execution_count": 727,
   "metadata": {},
   "outputs": [],
   "source": [
    "def checkLen(a, b):\n",
    "    if len(a) == len(b):\n",
    "        return True\n",
    "    else:\n",
    "        return f'a:{len(a)} < b:{len(b)}' if len(a) < len(b) else f'b:{len(b)} < a:{len(a)}'"
   ]
  },
  {
   "cell_type": "code",
   "execution_count": 728,
   "metadata": {},
   "outputs": [],
   "source": [
    "def filterData(obj, coll, st, narr):\n",
    "    for obj in coll:\n",
    "        try:\n",
    "            tmp = obj.get(st)\n",
    "            narr.append(tmp)\n",
    "        except Exception as e:\n",
    "            print(e, o['_id'])\n",
    "    return narr"
   ]
  },
  {
   "cell_type": "code",
   "execution_count": 729,
   "metadata": {},
   "outputs": [],
   "source": [
    "# BTC Collections\n",
    "BTC_Tickers_Collection = db.BTC_Tickers\n",
    "BTC_RSI_Collection = db.BTC_RSI14_Data\n",
    "BTC_ADL_Collection = db.BTC_ADL_Data\n",
    "BTC_OBV_Collection = db.BTC_OBV_Data"
   ]
  },
  {
   "cell_type": "code",
   "execution_count": null,
   "metadata": {},
   "outputs": [],
   "source": [
    "BTC_Tickers_Objs = list(BTC_Tickers_Collection.find())\n",
    "BTC_datetimes = []\n",
    "for dto in BTC_Tickers_Collection.find():\n",
    "    date_time = dto.get('time')\n",
    "    split_time = date_time.split('T')\n",
    "    BTC_datetimes.append(split_time)"
   ]
  },
  {
   "cell_type": "code",
   "execution_count": null,
   "metadata": {},
   "outputs": [],
   "source": [
    "BTC_Tickers_Objs = list(BTC_Tickers_Collection.find())\n",
    "BTC_prices = []\n",
    "for pro in BTC_Tickers_Collection.find():\n",
    "    price = pro.get('price')\n",
    "    BTC_prices.append(float(price))"
   ]
  },
  {
   "cell_type": "code",
   "execution_count": null,
   "metadata": {},
   "outputs": [],
   "source": [
    "checkLen(BTC_Tickers_Objs, BTC_prices)\n",
    "type(BTC_Tickers_Objs)"
   ]
  },
  {
   "cell_type": "code",
   "execution_count": null,
   "metadata": {},
   "outputs": [],
   "source": [
    "BTC_RSI_Objs = list(BTC_RSI_Collection.find())\n",
    "BTC_RSIs = []\n",
    "#     BTC_RSIs.append(int(RSI))\n",
    "for rsio in BTC_RSI_Collection.find():\n",
    "    RSI = rsio.get('RSI')\n",
    "    try:\n",
    "        if type(RSI) == float:\n",
    "            BTC_RSIs.append(int(RSI))\n",
    "        elif type(RSI) == list:\n",
    "            BTC_RSIs.append(int(stat.mean(RSI)))\n",
    "        else:\n",
    "            BTC_RSIs.append(RSI)\n",
    "    except Exception as e:\n",
    "        print(e, o['_id'])\n",
    "        sys.exit(1)"
   ]
  },
  {
   "cell_type": "code",
   "execution_count": null,
   "metadata": {},
   "outputs": [],
   "source": [
    "checkLen(BTC_RSI_Objs, BTC_RSIs)"
   ]
  },
  {
   "cell_type": "code",
   "execution_count": null,
   "metadata": {},
   "outputs": [],
   "source": [
    "BTC_ADL_Objs = list(BTC_ADL_Collection.find())\n",
    "BTC_ADLs = []\n",
    "BTC_ADL_slope = []\n",
    "for o in BTC_ADL_Collection.find():\n",
    "    ADL = o.get('ADL')\n",
    "    slope = o.get('slope')\n",
    "    try:\n",
    "        if type(ADL) == float:\n",
    "            BTC_ADLs.append(int(ADL))\n",
    "        elif type(ADL) == list:\n",
    "            BTC_ADLs.append(int(stat.mean(ADL)))\n",
    "        else:\n",
    "            BTC_ADLs.append(ADL)\n",
    "        if type(slope) == int:\n",
    "            BTC_ADL_slope.append(float(slope))\n",
    "        elif type(slope) == list:\n",
    "            BTC_ADL_slope.append(int(stat.mean(slope)))\n",
    "        else:\n",
    "            BTC_ADL_slope.append(slope)\n",
    "    except Exception as e:\n",
    "        print(e, o['_id'])\n",
    "        sys.exit(1)"
   ]
  },
  {
   "cell_type": "code",
   "execution_count": null,
   "metadata": {},
   "outputs": [],
   "source": [
    "checkLen(BTC_ADL_Objs, BTC_ADLs)"
   ]
  },
  {
   "cell_type": "code",
   "execution_count": null,
   "metadata": {},
   "outputs": [],
   "source": [
    "checkLen(BTC_ADL_slope, BTC_ADLs)"
   ]
  },
  {
   "cell_type": "code",
   "execution_count": null,
   "metadata": {},
   "outputs": [],
   "source": [
    "BTC_OBV_Objs = list(BTC_OBV_Collection.find())\n",
    "BTC_OBVs = []\n",
    "BTC_OBV_slope = []\n",
    "for o in BTC_OBV_Collection.find():\n",
    "    OBV = o.get('OBV')\n",
    "    slope = o.get('slope')\n",
    "    try:\n",
    "        if type(OBV) == float:\n",
    "            BTC_OBVs.append(int(OBV))\n",
    "        elif type(OBV) == list:\n",
    "            BTC_OBVs.append(int(stat.mean(OBV)))\n",
    "        else:\n",
    "            BTC_ADLs.append(ADL)\n",
    "        if type(slope) == int:\n",
    "            BTC_ADL_slope.append(float(slope))\n",
    "        elif type(slope) == list:\n",
    "            BTC_ADL_slope.append(int(stat.mean(slope)))\n",
    "        else:\n",
    "            BTC_ADL_slope.append(slope)\n",
    "    except Exception as e:\n",
    "        print(e, o['_id'])\n",
    "        sys.exit(1)\n",
    "        \n",
    "        \n",
    "    BTC_OBV_slope.append(float(slope))"
   ]
  },
  {
   "cell_type": "code",
   "execution_count": null,
   "metadata": {},
   "outputs": [],
   "source": [
    "checkLen(BTC_OBV_Objs, BTC_OBVs)"
   ]
  },
  {
   "cell_type": "code",
   "execution_count": null,
   "metadata": {},
   "outputs": [],
   "source": [
    "checkLen(BTC_OBV_slope, BTC_OBVs)"
   ]
  },
  {
   "cell_type": "code",
   "execution_count": null,
   "metadata": {},
   "outputs": [],
   "source": [
    "print(f'datetime: {len(date_times)}\\nprices: {len(BTC_prices)}')"
   ]
  },
  {
   "cell_type": "code",
   "execution_count": null,
   "metadata": {},
   "outputs": [],
   "source": [
    "print(f'RSI: {len(BTC_RSIs)}\\nADL: {len(BTC_ADLs)}\\nslp: {len(BTC_ADL_slope)}\\nOBV: {len(BTC_OBVs)}\\nslp: {len(BTC_OBV_slope)}')"
   ]
  },
  {
   "cell_type": "code",
   "execution_count": null,
   "metadata": {},
   "outputs": [],
   "source": [
    "BTC_Data = {'Date': BTC_datetimes[0:71354], 'Prices': BTC_prices[0:71354], 'RSI': BTC_RSIs[0:71354], 'ADL': BTC_ADLs, 'ADL_slope': BTC_ADL_slope, 'OBV': BTC_OBVs[0:71354], 'OBV_slope':BTC_OBV_slope[0:71354]}"
   ]
  },
  {
   "cell_type": "code",
   "execution_count": null,
   "metadata": {},
   "outputs": [],
   "source": [
    "print(len(BTC_Data['Date']), len(BTC_Data['Prices']), len(BTC_Data['RSI']), len(BTC_Data['ADL']), len(BTC_Data['ADL_slope']), len(BTC_Data['OBV']), len(BTC_Data['OBV_slope']))"
   ]
  },
  {
   "cell_type": "code",
   "execution_count": null,
   "metadata": {},
   "outputs": [],
   "source": [
    "BTC_df = pd.DataFrame(BTC_Data)\n",
    "BTC_df.head()"
   ]
  },
  {
   "cell_type": "code",
   "execution_count": null,
   "metadata": {},
   "outputs": [],
   "source": []
  },
  {
   "cell_type": "code",
   "execution_count": null,
   "metadata": {},
   "outputs": [],
   "source": [
    "BTC_df['Time'] = BTC_df['Date'][0][1]\n",
    "BTC_df['Date'] = BTC_df['Date'][0][0]\n",
    "BTC_df['ADL'] = BTC_df['ADL'].str[0]\n",
    "BTC_df['OBV'] = BTC_df['OBV'].str[0]"
   ]
  },
  {
   "cell_type": "code",
   "execution_count": null,
   "metadata": {},
   "outputs": [],
   "source": [
    "cols = ['Date', 'Time', 'Prices', 'RSI', 'ADL', 'ADL_slope', 'OBV', 'OBV_slope']\n",
    "BTC_df = BTC_df.reindex(columns=cols)\n",
    "BTC_df"
   ]
  },
  {
   "cell_type": "code",
   "execution_count": null,
   "metadata": {},
   "outputs": [],
   "source": [
    "BTC_df.info()"
   ]
  },
  {
   "cell_type": "code",
   "execution_count": null,
   "metadata": {},
   "outputs": [],
   "source": [
    "gc.collect()"
   ]
  },
  {
   "cell_type": "code",
   "execution_count": null,
   "metadata": {},
   "outputs": [],
   "source": []
  },
  {
   "cell_type": "code",
   "execution_count": null,
   "metadata": {},
   "outputs": [],
   "source": [
    "from numpy.random import seed\n",
    "seed(42)"
   ]
  },
  {
   "cell_type": "code",
   "execution_count": null,
   "metadata": {},
   "outputs": [],
   "source": [
    "X = pd.DataFrame(BTC_Data)\n",
    "y = BTC_prices\n",
    "\n",
    "from sklearn.model_selection import train_test_split\n",
    "X_train, X_test, y_train, y_test = train_test_split(X, y, test_size=0.3, random_state=1)"
   ]
  },
  {
   "cell_type": "code",
   "execution_count": null,
   "metadata": {},
   "outputs": [],
   "source": []
  },
  {
   "cell_type": "code",
   "execution_count": null,
   "metadata": {},
   "outputs": [],
   "source": []
  },
  {
   "cell_type": "code",
   "execution_count": null,
   "metadata": {},
   "outputs": [],
   "source": []
  }
 ],
 "metadata": {
  "kernelspec": {
   "display_name": "Python 3",
   "language": "python",
   "name": "python3"
  },
  "language_info": {
   "codemirror_mode": {
    "name": "ipython",
    "version": 3
   },
   "file_extension": ".py",
   "mimetype": "text/x-python",
   "name": "python",
   "nbconvert_exporter": "python",
   "pygments_lexer": "ipython3",
   "version": "3.7.4"
  }
 },
 "nbformat": 4,
 "nbformat_minor": 2
}
